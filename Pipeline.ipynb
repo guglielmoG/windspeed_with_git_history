{
 "cells": [
  {
   "cell_type": "markdown",
   "metadata": {},
   "source": [
    "# Preliminaries"
   ]
  },
  {
   "cell_type": "markdown",
   "metadata": {},
   "source": [
    "#### Imports"
   ]
  },
  {
   "cell_type": "code",
   "execution_count": 30,
   "metadata": {},
   "outputs": [],
   "source": [
    "import os\n",
    "import glob\n",
    "import PIL\n",
    "import numpy as np\n",
    "import math\n",
    "from xml.etree import ElementTree\n",
    "from contextlib import contextmanager"
   ]
  },
  {
   "cell_type": "markdown",
   "metadata": {},
   "source": [
    "#### Installing utilities"
   ]
  },
  {
   "cell_type": "code",
   "execution_count": null,
   "metadata": {},
   "outputs": [],
   "source": [
    "#install Go\n",
    "\n",
    "!add-apt-repository ppa:longsleep/golang-backports -y\n",
    "!apt update\n",
    "!apt install golang-go\n",
    "%env GOPATH=/root/go\n",
    "!go get -u github.com/gopherdata/gophernotes\n",
    "!cp ~/go/bin/gophernotes /usr/bin/\n",
    "!mkdir /usr/local/share/jupyter/kernels/gophernotes\n",
    "!cp ~/go/src/github.com/gopherdata/gophernotes/kernel/* \\\n",
    "       /usr/local/share/jupyter/kernels/gophernotes\n",
    "\n",
    "# then refresh notebook!"
   ]
  },
  {
   "cell_type": "code",
   "execution_count": null,
   "metadata": {},
   "outputs": [],
   "source": [
    "#install AuGoment\n",
    "! git clone https://github.com/lootag/ImageAuGomentationCLI.git\n",
    "os.chdir('ImageAuGomentationCLI' + os.sep + 'src')\n",
    "! make\n",
    "os.chdir('/content')"
   ]
  },
  {
   "cell_type": "markdown",
   "metadata": {},
   "source": [
    "#### Definitions"
   ]
  },
  {
   "cell_type": "code",
   "execution_count": 31,
   "metadata": {},
   "outputs": [],
   "source": [
    "repo = 'windspeed'\n",
    "detection_classes = ['flag']\n",
    "join_path = lambda *l: os.sep.join(l)\n",
    "\n",
    "#used in combination with _with_, sets path as cwd inside with block, and restores previous working dir upon exit\n",
    "@contextmanager\n",
    "def cwd(*l):\n",
    "    path = os.sep.join(l)\n",
    "    oldpwd=os.getcwd()\n",
    "    os.chdir(path)\n",
    "    try:\n",
    "        yield\n",
    "    finally:\n",
    "        os.chdir(oldpwd)"
   ]
  },
  {
   "cell_type": "markdown",
   "metadata": {},
   "source": [
    "# TO_DELETE\n",
    "Possiamo mettere legacy code che non ha senso stia da altre parti ma che potrebbe essere utile in futuro"
   ]
  },
  {
   "cell_type": "code",
   "execution_count": null,
   "metadata": {},
   "outputs": [],
   "source": [
    "#use to rename pictures\n",
    "with cwd('windspeed', 'flags'):\n",
    "    # get all annots\n",
    "    ann = set(os.listdir('Annotations'))\n",
    "    c = 0\n",
    "    for f in os.listdir('images'):\n",
    "        img_name, ext = os.path.splitext(f)\n",
    "        if os.path.exists(join_path('Annotations', img_name+'.xml')):\n",
    "            os.rename(join_path('Annotations', img_name+'.xml'), join_path('Annotations', str(c) + 'flag.xml'))\n",
    "            os.rename(join_path('images', f), join_path('images', str(c)+'flag'+ext))\n",
    "            ann.remove(img_name+'.xml')\n",
    "        else:\n",
    "            os.rename(join_path('images', f), f)\n",
    "            print(f)\n",
    "        c += 1\n",
    "            \n",
    "    print('No images for ', ann)"
   ]
  },
  {
   "cell_type": "code",
   "execution_count": null,
   "metadata": {},
   "outputs": [],
   "source": [
    "#used to debug augoment, identify images for which creates problems\n",
    "with cwd(repo):\n",
    "    ! git checkout .\n",
    "    ! git clean -fd\n",
    "\n",
    "with cwd(repo, 'data', 'flags'):\n",
    "    os.mkdir('temp')\n",
    "    os.mkdir(join_path('temp', 'Images'))\n",
    "    os.mkdir(join_path('temp', 'Annotations'))\n",
    "    c = 0\n",
    "    for f in os.listdir('Images'):\n",
    "        img_name,_ = os.path.splitext(f)\n",
    "        os.rename(join_path('Annotations', img_name+'.xml'), join_path('temp', 'Annotations', img_name+'.xml'))\n",
    "        os.rename(join_path('Images', f), join_path('temp', 'Images', f))\n",
    "        try:\n",
    "            with cwd('temp'):\n",
    "                ! augoment -exclusion_threshold=1 -batch_size=1 -blur=2 >good 2>bad\n",
    "                ! echo {f} > boh\n",
    "                ! grep panic bad >> boh\n",
    "                tt = ! grep panic bad\n",
    "                if len(tt) != 0:\n",
    "                    ! cat boh >> out_good\n",
    "                    ! echo \"\" >> out_good\n",
    "        except Exception as e:\n",
    "            print(f, str(e))\n",
    "        finally:\n",
    "            os.remove(join_path('temp', 'Annotations', img_name+'.xml'))\n",
    "            os.remove(join_path('temp', 'Images', f))\n",
    "        print(c)\n",
    "        c += 1"
   ]
  },
  {
   "cell_type": "markdown",
   "metadata": {},
   "source": [
    "# END_TO_DELETE"
   ]
  },
  {
   "cell_type": "markdown",
   "metadata": {},
   "source": [
    "# Flag Detection\n",
    "\n",
    "Folder structure:  \n",
    "-train  \n",
    "-validation  \n",
    "-test  \n",
    "\n",
    "In each folder one can find images and annotations, separated."
   ]
  },
  {
   "cell_type": "code",
   "execution_count": null,
   "metadata": {},
   "outputs": [],
   "source": [
    "! git clone https://github.com/guglielmoG/windspeed.git"
   ]
  },
  {
   "cell_type": "markdown",
   "metadata": {},
   "source": [
    "## Data Preprocessing"
   ]
  },
  {
   "cell_type": "markdown",
   "metadata": {},
   "source": [
    "### Folder Structure Creation\n",
    "Divide in training, validation and test set, with approximately 75%, 15% and 10% respectively."
   ]
  },
  {
   "cell_type": "code",
   "execution_count": 33,
   "metadata": {},
   "outputs": [
    {
     "ename": "PermissionError",
     "evalue": "[WinError 5] Access is denied: 'Images'",
     "output_type": "error",
     "traceback": [
      "\u001b[1;31m---------------------------------------------------------------------------\u001b[0m",
      "\u001b[1;31mPermissionError\u001b[0m                           Traceback (most recent call last)",
      "\u001b[1;32m<ipython-input-33-ed13fc9dd9a3>\u001b[0m in \u001b[0;36m<module>\u001b[1;34m\u001b[0m\n\u001b[0;32m     27\u001b[0m             \u001b[0mos\u001b[0m\u001b[1;33m.\u001b[0m\u001b[0mrename\u001b[0m\u001b[1;33m(\u001b[0m\u001b[0mjoin_path\u001b[0m\u001b[1;33m(\u001b[0m\u001b[1;34m'Images'\u001b[0m\u001b[1;33m,\u001b[0m \u001b[0mimg\u001b[0m\u001b[1;33m)\u001b[0m\u001b[1;33m,\u001b[0m \u001b[0mjoin_path\u001b[0m\u001b[1;33m(\u001b[0m\u001b[1;34m'test'\u001b[0m\u001b[1;33m,\u001b[0m \u001b[1;34m'Images'\u001b[0m\u001b[1;33m,\u001b[0m \u001b[0mimg\u001b[0m\u001b[1;33m)\u001b[0m\u001b[1;33m)\u001b[0m\u001b[1;33m\u001b[0m\u001b[1;33m\u001b[0m\u001b[0m\n\u001b[0;32m     28\u001b[0m             \u001b[0mos\u001b[0m\u001b[1;33m.\u001b[0m\u001b[0mrename\u001b[0m\u001b[1;33m(\u001b[0m\u001b[0mjoin_path\u001b[0m\u001b[1;33m(\u001b[0m\u001b[1;34m'Annotations'\u001b[0m\u001b[1;33m,\u001b[0m \u001b[0mimg_name\u001b[0m \u001b[1;33m+\u001b[0m \u001b[1;34m'.xml'\u001b[0m\u001b[1;33m)\u001b[0m\u001b[1;33m,\u001b[0m \u001b[0mjoin_path\u001b[0m\u001b[1;33m(\u001b[0m\u001b[1;34m'test'\u001b[0m\u001b[1;33m,\u001b[0m \u001b[1;34m'Annotations'\u001b[0m\u001b[1;33m,\u001b[0m \u001b[0mimg_name\u001b[0m \u001b[1;33m+\u001b[0m \u001b[1;34m'.xml'\u001b[0m\u001b[1;33m)\u001b[0m\u001b[1;33m)\u001b[0m\u001b[1;33m\u001b[0m\u001b[1;33m\u001b[0m\u001b[0m\n\u001b[1;32m---> 29\u001b[1;33m     \u001b[0mos\u001b[0m\u001b[1;33m.\u001b[0m\u001b[0mremove\u001b[0m\u001b[1;33m(\u001b[0m\u001b[1;34m'Images'\u001b[0m\u001b[1;33m)\u001b[0m\u001b[1;33m\u001b[0m\u001b[1;33m\u001b[0m\u001b[0m\n\u001b[0m\u001b[0;32m     30\u001b[0m     \u001b[0mos\u001b[0m\u001b[1;33m.\u001b[0m\u001b[0mremove\u001b[0m\u001b[1;33m(\u001b[0m\u001b[1;34m'Annotations'\u001b[0m\u001b[1;33m)\u001b[0m\u001b[1;33m\u001b[0m\u001b[1;33m\u001b[0m\u001b[0m\n",
      "\u001b[1;31mPermissionError\u001b[0m: [WinError 5] Access is denied: 'Images'"
     ]
    }
   ],
   "source": [
    "np.random.seed(3456)\n",
    "\n",
    "def make_augoment_dir(name):\n",
    "    os.mkdir(name)\n",
    "    os.mkdir(join_path(name, 'Images'))\n",
    "    os.mkdir(join_path(name, 'Annotations'))\n",
    "    \n",
    "with cwd(repo, 'data', 'flags'):\n",
    "    make_augoment_dir('train')\n",
    "    make_augoment_dir('valid')\n",
    "    make_augoment_dir('test')\n",
    "    imgs = os.listdir('Images')\n",
    "    n = len(imgs)\n",
    "    #use random indexes to shuffle the images\n",
    "    idx = np.arange(n)\n",
    "    np.random.shuffle(idx)\n",
    "    for i in range(n):\n",
    "        img = imgs[idx[i]]\n",
    "        img_name, _ = os.path.splitext(img)\n",
    "        if i < n * 0.75:\n",
    "            os.rename(join_path('Images', img), join_path('train', 'Images', img))\n",
    "            os.rename(join_path('Annotations', img_name + '.xml'), join_path('train', 'Annotations', img_name + '.xml'))\n",
    "        elif i < n * 0.9:\n",
    "            os.rename(join_path('Images', img), join_path('valid', 'Images', img))\n",
    "            os.rename(join_path('Annotations', img_name + '.xml'), join_path('valid', 'Annotations', img_name + '.xml'))\n",
    "        else:\n",
    "            os.rename(join_path('Images', img), join_path('test', 'Images', img))\n",
    "            os.rename(join_path('Annotations', img_name + '.xml'), join_path('test', 'Annotations', img_name + '.xml'))\n",
    "    os.rmdir('Images')\n",
    "    os.rmdir('Annotations')"
   ]
  },
  {
   "cell_type": "markdown",
   "metadata": {},
   "source": [
    "### Augmentation\n",
    "NB: if one would like to obtain different blur values for a given image (i.e. produce say 3 new blurred images out of every image, with different blur values), they would need to rename previosly created blurred images, because they are overwritten."
   ]
  },
  {
   "cell_type": "code",
   "execution_count": null,
   "metadata": {},
   "outputs": [],
   "source": [
    "def convert_to_jpg(path):\n",
    "    dir, file = os.path.split(path) \n",
    "    img_name,_ = os.path.splitext(file)\n",
    "    img = PIL.Image.open(path)\n",
    "    img = img.convert('RGB')\n",
    "    img.save(join_path(dir, img_name + '.jpg'))\n",
    "    img.close()\n",
    "\n",
    "#Augment dataset\n",
    "def augoment(path):\n",
    "    files = os.listdir(path)\n",
    "    if not ('Images' in files or 'Annotations' in path):\n",
    "        raise Exception(1)\n",
    "\n",
    "    #cast png to jpg\n",
    "    pngs = glob.glob(join_path(path, 'Images/*.png'))\n",
    "    pngs.extend(glob.glob(join_path(path, 'Images/*.PNG')))\n",
    "    for png in pngs:\n",
    "        convert_to_jpg(png)\n",
    "        os.remove(png)\n",
    "\n",
    "    #cast jpeg to jpg\n",
    "    pngs = glob.glob(join_path(path, 'Images/*.jpeg'))\n",
    "    for png in pngs:\n",
    "        convert_to_jpg(png)\n",
    "        os.remove(png)\n",
    "        \n",
    "    #augmentation\n",
    "    with cwd(path):\n",
    "        ! augoment -blur=2 "
   ]
  },
  {
   "cell_type": "code",
   "execution_count": null,
   "metadata": {},
   "outputs": [],
   "source": [
    "augoment(join_path(repo,'data','flags','train'))\n",
    "augoment(join_path(repo,'data','flags','valid'))"
   ]
  },
  {
   "cell_type": "markdown",
   "metadata": {},
   "source": [
    "### YOLO Preprocessing\n",
    "\n",
    "Clone the repo, and compile code with CUDA."
   ]
  },
  {
   "cell_type": "code",
   "execution_count": null,
   "metadata": {},
   "outputs": [],
   "source": [
    "! git clone https://github.com/pjreddie/darknet.git\n",
    "\n",
    "with cwd('darknet'):\n",
    "    ! sed -i 's/GPU=0/GPU=1/' Makefile\n",
    "    ! sed -i 's/CUDNN=0/CUDNN=1/' Makefile\n",
    "    ! make\n",
    "    \n",
    "#copy needed files\n",
    "os.rename(join_path('darknet', 'darknet'), join_path(repo, 'darknet'))\n",
    "os.mkdir(join_path(repo, 'backup'))\n",
    "os.mkdir(join_path(repo, 'results'))"
   ]
  },
  {
   "cell_type": "markdown",
   "metadata": {},
   "source": [
    "Define functions to convert xml annotations into YOLO input format. NB: labels need to be left inside images folder"
   ]
  },
  {
   "cell_type": "code",
   "execution_count": 6,
   "metadata": {},
   "outputs": [],
   "source": [
    "#size: image size (width, height)\n",
    "#box: box coordinates (xmin, xmax, ymin, ymax)\n",
    "def convert(size, box):                                                                                                     \n",
    "    dw = 1./size[0]\n",
    "    dh = 1./size[1]\n",
    "    x = (box[0] + box[1])/2.0\n",
    "    y = (box[2] + box[3])/2.0\n",
    "    w = box[1] - box[0]\n",
    "    h = box[3] - box[2]\n",
    "    x = x*dw\n",
    "    w = w*dw\n",
    "    y = y*dh\n",
    "    h = h*dh\n",
    "    return (x,y,w,h)\n",
    "\n",
    "#create YOLO label files\n",
    "def convert_annotation(ann_path, outdir=''):    \n",
    "    img_name,_ = os.path.splitext(os.path.basename(ann_path))\n",
    "    tree = ElementTree.parse(ann_path)\n",
    "    root = tree.getroot()\n",
    "    size = root.find('size')\n",
    "    w = int(size.find('width').text)\n",
    "    h = int(size.find('height').text)\n",
    "\n",
    "    for obj in root.iter('object'):\n",
    "        cls = obj.find('name').text\n",
    "        if cls not in detection_classes:\n",
    "            print('WARNING: skipped BBox of image %s with undefined class'%(img_name) , cls)\n",
    "            continue\n",
    "        cls_id = detection_classes.index(cls)\n",
    "        xmlbox = obj.find('bndbox')\n",
    "        b = (float(xmlbox.find('xmin').text), float(xmlbox.find('xmax').text), float(xmlbox.find('ymin').text), float(xmlbox.find('ymax').text))\n",
    "        bb = convert((w,h), b)\n",
    "        with open(join_path(outdir, img_name + \".txt\"), 'w') as writer:\n",
    "            writer.write(str(cls_id) + \" \" + \" \".join([str(a) for a in bb]) + '\\n')"
   ]
  },
  {
   "cell_type": "markdown",
   "metadata": {},
   "source": [
    "Create input txt files containing images paths."
   ]
  },
  {
   "cell_type": "code",
   "execution_count": null,
   "metadata": {},
   "outputs": [],
   "source": [
    "def collect_img_path(in_dir, out_path):\n",
    "    l = glob.glob(join_path(in_dir, '*[!.txt]'))\n",
    "    with open(out_path, 'w') as w:\n",
    "        w.write('\\n'.join(l))"
   ]
  },
  {
   "cell_type": "markdown",
   "metadata": {},
   "source": [
    "Combining everything"
   ]
  },
  {
   "cell_type": "code",
   "execution_count": 8,
   "metadata": {},
   "outputs": [
    {
     "data": {
      "text/plain": [
       "'D:\\\\ME\\\\gugli\\\\Bocconi\\\\5\\\\1_sem\\\\comp_vision\\\\project\\\\C_lib'"
      ]
     },
     "execution_count": 8,
     "metadata": {},
     "output_type": "execute_result"
    }
   ],
   "source": [
    "#converting annotations\n",
    "with cwd(repo, 'data', 'flags'):\n",
    "    for f in os.listdir(): #train, valid, test\n",
    "        if os.path.isdir(f) and f in ['train', 'valid']:\n",
    "            for xml in os.listdir(join_path(f, 'AugmentedAnnotations')):\n",
    "                convert_annotation(join_path(f, 'AugmentedAnnotations', xml), join_path(f, 'AugmentedImages'))\n",
    "\n",
    "#creating input paths to images\n",
    "with cwd(repo):\n",
    "    collect_img_path(join_path('data','flags','train','AugmentedImages'), join_path('data','flags','train.txt'))\n",
    "    collect_img_path(join_path('data','flags','valid','AugmentedImages'), join_path('data','flags','valid.txt'))"
   ]
  },
  {
   "cell_type": "markdown",
   "metadata": {},
   "source": [
    "The structure of _cfg/flag.data_ is as follows\n",
    "```\n",
    "  classes = 1\n",
    "  train  = <path-to-data>/train.txt\n",
    "  valid  = <path-to-data>/valid.txt\n",
    "  names = <path-to-data>/flag.names\n",
    "  backup = backup\n",
    "```\n",
    "_flag.names_ should contain the list of classes, one per line.  \n",
    "\n",
    "Download weights for the classifier (Darknet-53)"
   ]
  },
  {
   "cell_type": "code",
   "execution_count": 11,
   "metadata": {},
   "outputs": [],
   "source": [
    "! wget https://pjreddie.com/media/files/darknet53.conv.74\n",
    "os.rename('darknet53.conv.74', join_path(repo,'cfg','darknet53.conv.74'))"
   ]
  },
  {
   "cell_type": "markdown",
   "metadata": {},
   "source": [
    "Edit the cfg file for _yolo-v3_. Need to set adeguate `batch` (number of images per training step) and `subdivisions` (further subdivide the batch to speedup training) values according to the hardware at disposal. Then need to update `classes` in yolo layer to match the number of classes that needs to be predicted. Finally, adjust `filters` amount in convolutional layer prior to yolo layer, to match the updated number of classes, according to the formula:\n",
    "```\n",
    "filters = (classes + 5)*3\n",
    "```\n",
    "The file _yolo-v3.cfg_ provided is already setup in such a way.  \n",
    "\n",
    "Finally, we can train the model."
   ]
  },
  {
   "cell_type": "code",
   "execution_count": null,
   "metadata": {},
   "outputs": [],
   "source": [
    "with cwd(repo):\n",
    "    ! chmod 755 darknet\n",
    "    ! ./darknet detector train cfg/flag.data cfg/yolov3.cfg cfg/darknet53.conv.74 -dont_show"
   ]
  }
 ],
 "metadata": {
  "kernelspec": {
   "display_name": "Python 3",
   "language": "python",
   "name": "python3"
  },
  "language_info": {
   "codemirror_mode": {
    "name": "ipython",
    "version": 3
   },
   "file_extension": ".py",
   "mimetype": "text/x-python",
   "name": "python",
   "nbconvert_exporter": "python",
   "pygments_lexer": "ipython3",
   "version": "3.7.3"
  }
 },
 "nbformat": 4,
 "nbformat_minor": 2
}
